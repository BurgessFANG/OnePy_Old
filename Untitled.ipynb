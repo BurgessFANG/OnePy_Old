{
 "cells": [
  {
   "cell_type": "code",
   "execution_count": 5,
   "metadata": {
    "collapsed": false
   },
   "outputs": [
    {
     "ename": "SyntaxError",
     "evalue": "invalid syntax (Portfolio.py, line 173)",
     "output_type": "error",
     "traceback": [
      "\u001b[0;36m  File \u001b[0;32m\"Portfolio.py\"\u001b[0;36m, line \u001b[0;32m173\u001b[0m\n\u001b[0;31m    if event.type = 'Signal':\u001b[0m\n\u001b[0m                  ^\u001b[0m\n\u001b[0;31mSyntaxError\u001b[0m\u001b[0;31m:\u001b[0m invalid syntax\n"
     ]
    }
   ],
   "source": [
    "import Portfolio \n",
    "import data\n",
    "import event\n",
    "import execution\n",
    "import strategy\n",
    "import Queue\n",
    "\n",
    "def run():\n",
    "    while True:\n",
    "        try:\n",
    "            event = events.get(False)\n",
    "        except Queue.Empty:\n",
    "            pass\n",
    "    else:\n",
    "        if event is not None:\n",
    "            if event.type == 'Market':\n",
    "                str = BuyAndHoldStrategy(bar, event)\n",
    "                strategy.calculate_signals(event)\n",
    "                \n",
    "            if event.type == 'Signal':\n",
    "                print 'Generating order'\n",
    "                \n",
    "            if event.type == 'Order':\n",
    "                \n",
    "                \n",
    "            if event.type == 'Fill':\n",
    "\n",
    "                \n",
    "            "
   ]
  },
  {
   "cell_type": "code",
   "execution_count": 15,
   "metadata": {
    "collapsed": true
   },
   "outputs": [],
   "source": [
    "from abc import ABCMeta, abstractmethod\n",
    "class aa(object):\n",
    "\n",
    "    __metaclass__ = ABCMeta\n",
    "    \n",
    "    @abstractmethod\n",
    "    def pp(self):\n",
    "        raise NotImplemented('No!')\n",
    "\n",
    "class bb(aa):\n",
    "    def pp(self):\n",
    "        print 'GGa'"
   ]
  },
  {
   "cell_type": "code",
   "execution_count": 24,
   "metadata": {
    "collapsed": false
   },
   "outputs": [],
   "source": [
    "strategy = bb()"
   ]
  },
  {
   "cell_type": "code",
   "execution_count": 25,
   "metadata": {
    "collapsed": false
   },
   "outputs": [
    {
     "name": "stdout",
     "output_type": "stream",
     "text": [
      "GGa\n"
     ]
    }
   ],
   "source": [
    "strategy.pp()"
   ]
  },
  {
   "cell_type": "code",
   "execution_count": null,
   "metadata": {
    "collapsed": true
   },
   "outputs": [],
   "source": []
  }
 ],
 "metadata": {
  "kernelspec": {
   "display_name": "Python 2",
   "language": "python",
   "name": "python2"
  },
  "language_info": {
   "codemirror_mode": {
    "name": "ipython",
    "version": 2
   },
   "file_extension": ".py",
   "mimetype": "text/x-python",
   "name": "python",
   "nbconvert_exporter": "python",
   "pygments_lexer": "ipython2",
   "version": "2.7.13"
  }
 },
 "nbformat": 4,
 "nbformat_minor": 2
}
